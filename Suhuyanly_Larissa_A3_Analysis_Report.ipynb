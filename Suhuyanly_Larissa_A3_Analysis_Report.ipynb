{
 "cells": [
  {
   "cell_type": "markdown",
   "metadata": {},
   "source": [
    "<H1 style=\"font-family:time new roman; text-align:center;\" >Apprentice Chef Analysis - Regression and Classification</H1>\n",
    "\n",
    "<p style=\"font-family:time new roman; text-align:center;\">By Larissa Suhuyanly\n",
    "</p>\n",
    "<p style=\"font-family:time new roman; text-align:center;\">Hult International Business School\n",
    "</p>\n",
    "<p style=\"font-family:time new roman; text-align:center;\">Machine Learning - Cohort 3\n",
    "</p>\n",
    "<p style=\"font-family:time new roman; text-align:center;\">Professor Chase Kusterer\n",
    "</p>\n",
    "<p style=\"font-family:time new roman; text-align:center;\">Jan 28, 2021\n",
    "</p>"
   ]
  },
  {
   "cell_type": "markdown",
   "metadata": {},
   "source": [
    "<H3 style=\"font-family:time new roman\" >Case Challenge 1 (R-Square 0.816) : </H3>"
   ]
  },
  {
   "cell_type": "markdown",
   "metadata": {},
   "source": [
    "<H4 style=\"font-family:time new roman\" >Objectives :</H4>\n",
    "\n",
    ">  To predict how much revenue to expect from each customer."
   ]
  },
  {
   "cell_type": "markdown",
   "metadata": {},
   "source": [
    "<H4 style=\"font-family:time new roman\" >Insights :</H4>\n",
    "\n",
    "> - The people that, on average, spend more time watching preparation video time, tend to bring more revenue. For every additional 1 minute in average preparation video, it will increase the revenue by 53%. A longer video means a more difficult meal to cook in a sense that it is a complicated gourmet meal to cook at home therefore it gives a greater sense of accomplishment. Second, researchers say that cooking is therapeutic.\n",
    "> - The greater the quantity of contacts with customer service, the lower the revenue. For every 1 contact with customer services, the revenue will decrease by 16%. This confirms that most of the contacts are due to complaints.\n"
   ]
  },
  {
   "cell_type": "markdown",
   "metadata": {},
   "source": [
    "<H4 style=\"font-family:time new roman\" >Conclusions :</H4>\n",
    "\n",
    "> - Create more selections of gourmet meal with longer video to retain customers' engagement and enthusiasm.\n",
    "> - Create compensations programs that can help reduce churns. Also, gather information from customer service to understand the company's weaknesses and make improvements.\n"
   ]
  },
  {
   "cell_type": "markdown",
   "metadata": {},
   "source": [
    "<H3 style=\"font-family:time new roman\" >Case Challenge 2 (AUC 0.891) :</H3>"
   ]
  },
  {
   "cell_type": "markdown",
   "metadata": {},
   "source": [
    "<H4 style=\"font-family:time new roman\" >Objectives :</H4>\n",
    "\n",
    "\n",
    "> To predict which customers will subscribe to cross-selling promotion."
   ]
  },
  {
   "cell_type": "markdown",
   "metadata": {},
   "source": [
    "<H4 style=\"font-family:time new roman\" >Insights :</H4>\n",
    "\n",
    "> - Junk email is one of the importance features for the promotion. However, analysis shows the correlation is negative (-0.28). \n",
    "> - Products categories viewed is also one of important features even though it has zero correlation. One variable can cause another without there being any correlation between the two."
   ]
  },
  {
   "cell_type": "markdown",
   "metadata": {},
   "source": [
    "<H4 style=\"font-family:time new roman\" >Conclusions : </H4>\n",
    "\n",
    "> -  it is encouraged to use segmentation to send targeted, relevant promotion instead of sending to entire list. Personalizing the emails and referral code will also increase engagement and open rates such as \"Dear (Customer's Name)\". \n",
    "> -  Segment the market through products categories viewed to know which categories will purchase the promotion such as Italian food always goes well with wine and Japanese food is better with sake."
   ]
  },
  {
   "cell_type": "markdown",
   "metadata": {},
   "source": [
    "<H3 style=\"font-family:time new roman\" >References : </H3>"
   ]
  },
  {
   "cell_type": "markdown",
   "metadata": {},
   "source": [
    "> - Dudeck, J (2017, April 11th). 17 Ways to Keep Your Emails Out of the Spam Folder. Keyholemarketing\n",
    "> - Cherry, K (2020, April 13th). How Are Correlations Are Used in Psychology Research. Verywellmind\n",
    "\n"
   ]
  },
  {
   "cell_type": "code",
   "execution_count": null,
   "metadata": {},
   "outputs": [],
   "source": []
  }
 ],
 "metadata": {
  "kernelspec": {
   "display_name": "Python 3",
   "language": "python",
   "name": "python3"
  },
  "language_info": {
   "codemirror_mode": {
    "name": "ipython",
    "version": 3
   },
   "file_extension": ".py",
   "mimetype": "text/x-python",
   "name": "python",
   "nbconvert_exporter": "python",
   "pygments_lexer": "ipython3",
   "version": "3.8.3"
  },
  "toc": {
   "base_numbering": 1,
   "nav_menu": {},
   "number_sections": false,
   "sideBar": true,
   "skip_h1_title": false,
   "title_cell": "Table of Contents",
   "title_sidebar": "Contents",
   "toc_cell": false,
   "toc_position": {},
   "toc_section_display": true,
   "toc_window_display": true
  },
  "varInspector": {
   "cols": {
    "lenName": 16,
    "lenType": 16,
    "lenVar": 40
   },
   "kernels_config": {
    "python": {
     "delete_cmd_postfix": "",
     "delete_cmd_prefix": "del ",
     "library": "var_list.py",
     "varRefreshCmd": "print(var_dic_list())"
    },
    "r": {
     "delete_cmd_postfix": ") ",
     "delete_cmd_prefix": "rm(",
     "library": "var_list.r",
     "varRefreshCmd": "cat(var_dic_list()) "
    }
   },
   "types_to_exclude": [
    "module",
    "function",
    "builtin_function_or_method",
    "instance",
    "_Feature"
   ],
   "window_display": false
  }
 },
 "nbformat": 4,
 "nbformat_minor": 4
}
